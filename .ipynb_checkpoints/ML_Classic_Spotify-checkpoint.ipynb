{
 "cells": [
  {
   "cell_type": "markdown",
   "id": "551a8334",
   "metadata": {
    "pycharm": {
     "name": "#%% md\n"
    }
   },
   "source": [
    "# Feature descipition:\n",
    "* genre: Type of song\n",
    "* artist_name: Artist name \n",
    "* track_name: The name of the song\n",
    "* track_id: The Spotify ID for the track.\n",
    "* popularity: Popularity percentage of the song\n",
    "* acousticness: A confidence measure from 0.0 to 1.0 of whether the track is acoustic. 1.0 represents high confidence the track is acoustic.\n",
    "* danceability: Describes how suitable a track is for dancing based on a combination of musical elements including tempo, rhythm stability, beat strength, and overall regularity. A value of 0.0 is least danceable and 1.0 is most danceable.\n",
    "* duration_ms: The duration of the track in milliseconds.\n",
    "* energy: Energy is a measure from 0.0 to 1.0 and represents a perceptual measure of intensity and activity. Typically, energetic tracks feel fast, loud, and noisy.\n",
    "* instrumentalness: Predicts whether a track contains no vocals. “Ooh” and “aah” sounds are treated as instrumental in this context. Rap or spoken word tracks are clearly “vocal.” The closer the instrumentalness value is to 1.0, the greater likelihood the track contains no vocal content. Values above 0.5 are intended to represent instrumental tracks, but confidence is higher as the value approaches 1.0.\n",
    "* key: The key the track is in. Integers map to pitches using standard Pitch Class notation. E.g. 0 = C, 1 = C♯/D♭, 2 = D, and so on. If no key was detected, the value is -1.\n",
    "* liveness: Detects the presence of an audience in the recording. Higher liveness values represent an increased probability that the track was performed live. A value above 0.8 provides strong likelihood that the track is live.\n",
    "* loudness: The overall loudness of a track in decibels (dB). Loudness values are averaged across the entire track and are useful for comparing relative loudness of tracks. Loudness is the quality of a sound that is the primary psychological correlate of physical strength (amplitude). Values typically range between -60 and 0 db.\n",
    "* mode: Mode indicates the modality (major or minor) of a track, the type of scale from which its melodic content is derived. Major is represented by 1 and minor is 0.\n",
    "* speechiness: Speechiness detects the presence of spoken words in a track. The more exclusively speech-like the recording (e.g. talk show, audio book, poetry), the closer to 1.0 the attribute value. Values above 0.66 describe tracks that are probably made entirely of spoken words. Values between 0.33 and 0.66 describe tracks that may contain both music and speech, either in sections or layered, including such cases as rap music. Values below 0.33 most likely represent music and other non-speech-like tracks.\n",
    "* tempo: The overall estimated tempo of a track in beats per minute (BPM). In musical terminology, tempo is the speed or pace of a given piece and derives directly from the average beat duration.\n",
    "* time_signature: An estimated time signature. The time signature (meter) is a notational convention to specify how many beats are in each bar (or measure). The time signature ranges from 3 to 7 indicating time signatures of \"3/4\", to \"7/4\".\n",
    "* valence: A measure from 0.0 to 1.0 describing the musical positiveness conveyed by a track. Tracks with high valence sound more positive (e.g. happy, cheerful, euphoric), while tracks with low valence sound more negative (e.g. sad, depressed, angry)."
   ]
  },
  {
   "cell_type": "markdown",
   "id": "b951994f",
   "metadata": {},
   "source": [
    "<font size=\"3.5\">Firstly I will import pandas, numpy, seaborn, download dataframe. Also let's see how this dataframe looks like."
   ]
  },
  {
   "cell_type": "code",
   "execution_count": 1,
   "id": "fd726d4d",
   "metadata": {
    "pycharm": {
     "name": "#%%\n"
    }
   },
   "outputs": [
    {
     "data": {
      "text/html": [
       "<div>\n",
       "<style scoped>\n",
       "    .dataframe tbody tr th:only-of-type {\n",
       "        vertical-align: middle;\n",
       "    }\n",
       "\n",
       "    .dataframe tbody tr th {\n",
       "        vertical-align: top;\n",
       "    }\n",
       "\n",
       "    .dataframe thead th {\n",
       "        text-align: right;\n",
       "    }\n",
       "</style>\n",
       "<table border=\"1\" class=\"dataframe\">\n",
       "  <thead>\n",
       "    <tr style=\"text-align: right;\">\n",
       "      <th></th>\n",
       "      <th>genre</th>\n",
       "      <th>artist_name</th>\n",
       "      <th>track_name</th>\n",
       "      <th>track_id</th>\n",
       "      <th>popularity</th>\n",
       "      <th>acousticness</th>\n",
       "      <th>danceability</th>\n",
       "      <th>duration_ms</th>\n",
       "      <th>energy</th>\n",
       "      <th>instrumentalness</th>\n",
       "      <th>key</th>\n",
       "      <th>liveness</th>\n",
       "      <th>loudness</th>\n",
       "      <th>mode</th>\n",
       "      <th>speechiness</th>\n",
       "      <th>tempo</th>\n",
       "      <th>time_signature</th>\n",
       "      <th>valence</th>\n",
       "    </tr>\n",
       "  </thead>\n",
       "  <tbody>\n",
       "    <tr>\n",
       "      <th>0</th>\n",
       "      <td>Movie</td>\n",
       "      <td>Henri Salvador</td>\n",
       "      <td>C'est beau de faire un Show</td>\n",
       "      <td>0BRjO6ga9RKCKjfDqeFgWV</td>\n",
       "      <td>0</td>\n",
       "      <td>0.611</td>\n",
       "      <td>0.389</td>\n",
       "      <td>99373</td>\n",
       "      <td>0.910</td>\n",
       "      <td>0.000</td>\n",
       "      <td>C#</td>\n",
       "      <td>0.3460</td>\n",
       "      <td>-1.828</td>\n",
       "      <td>Major</td>\n",
       "      <td>0.0525</td>\n",
       "      <td>166.969</td>\n",
       "      <td>4/4</td>\n",
       "      <td>0.814</td>\n",
       "    </tr>\n",
       "    <tr>\n",
       "      <th>1</th>\n",
       "      <td>Movie</td>\n",
       "      <td>Martin &amp; les fées</td>\n",
       "      <td>Perdu d'avance (par Gad Elmaleh)</td>\n",
       "      <td>0BjC1NfoEOOusryehmNudP</td>\n",
       "      <td>1</td>\n",
       "      <td>0.246</td>\n",
       "      <td>0.590</td>\n",
       "      <td>137373</td>\n",
       "      <td>0.737</td>\n",
       "      <td>0.000</td>\n",
       "      <td>F#</td>\n",
       "      <td>0.1510</td>\n",
       "      <td>-5.559</td>\n",
       "      <td>Minor</td>\n",
       "      <td>0.0868</td>\n",
       "      <td>174.003</td>\n",
       "      <td>4/4</td>\n",
       "      <td>0.816</td>\n",
       "    </tr>\n",
       "    <tr>\n",
       "      <th>2</th>\n",
       "      <td>Movie</td>\n",
       "      <td>Joseph Williams</td>\n",
       "      <td>Don't Let Me Be Lonely Tonight</td>\n",
       "      <td>0CoSDzoNIKCRs124s9uTVy</td>\n",
       "      <td>3</td>\n",
       "      <td>0.952</td>\n",
       "      <td>0.663</td>\n",
       "      <td>170267</td>\n",
       "      <td>0.131</td>\n",
       "      <td>0.000</td>\n",
       "      <td>C</td>\n",
       "      <td>0.1030</td>\n",
       "      <td>-13.879</td>\n",
       "      <td>Minor</td>\n",
       "      <td>0.0362</td>\n",
       "      <td>99.488</td>\n",
       "      <td>5/4</td>\n",
       "      <td>0.368</td>\n",
       "    </tr>\n",
       "    <tr>\n",
       "      <th>3</th>\n",
       "      <td>Movie</td>\n",
       "      <td>Henri Salvador</td>\n",
       "      <td>Dis-moi Monsieur Gordon Cooper</td>\n",
       "      <td>0Gc6TVm52BwZD07Ki6tIvf</td>\n",
       "      <td>0</td>\n",
       "      <td>0.703</td>\n",
       "      <td>0.240</td>\n",
       "      <td>152427</td>\n",
       "      <td>0.326</td>\n",
       "      <td>0.000</td>\n",
       "      <td>C#</td>\n",
       "      <td>0.0985</td>\n",
       "      <td>-12.178</td>\n",
       "      <td>Major</td>\n",
       "      <td>0.0395</td>\n",
       "      <td>171.758</td>\n",
       "      <td>4/4</td>\n",
       "      <td>0.227</td>\n",
       "    </tr>\n",
       "    <tr>\n",
       "      <th>4</th>\n",
       "      <td>Movie</td>\n",
       "      <td>Fabien Nataf</td>\n",
       "      <td>Ouverture</td>\n",
       "      <td>0IuslXpMROHdEPvSl1fTQK</td>\n",
       "      <td>4</td>\n",
       "      <td>0.950</td>\n",
       "      <td>0.331</td>\n",
       "      <td>82625</td>\n",
       "      <td>0.225</td>\n",
       "      <td>0.123</td>\n",
       "      <td>F</td>\n",
       "      <td>0.2020</td>\n",
       "      <td>-21.150</td>\n",
       "      <td>Major</td>\n",
       "      <td>0.0456</td>\n",
       "      <td>140.576</td>\n",
       "      <td>4/4</td>\n",
       "      <td>0.390</td>\n",
       "    </tr>\n",
       "  </tbody>\n",
       "</table>\n",
       "</div>"
      ],
      "text/plain": [
       "   genre        artist_name                        track_name  \\\n",
       "0  Movie     Henri Salvador       C'est beau de faire un Show   \n",
       "1  Movie  Martin & les fées  Perdu d'avance (par Gad Elmaleh)   \n",
       "2  Movie    Joseph Williams    Don't Let Me Be Lonely Tonight   \n",
       "3  Movie     Henri Salvador    Dis-moi Monsieur Gordon Cooper   \n",
       "4  Movie       Fabien Nataf                         Ouverture   \n",
       "\n",
       "                 track_id  popularity  acousticness  danceability  \\\n",
       "0  0BRjO6ga9RKCKjfDqeFgWV           0         0.611         0.389   \n",
       "1  0BjC1NfoEOOusryehmNudP           1         0.246         0.590   \n",
       "2  0CoSDzoNIKCRs124s9uTVy           3         0.952         0.663   \n",
       "3  0Gc6TVm52BwZD07Ki6tIvf           0         0.703         0.240   \n",
       "4  0IuslXpMROHdEPvSl1fTQK           4         0.950         0.331   \n",
       "\n",
       "   duration_ms  energy  instrumentalness key  liveness  loudness   mode  \\\n",
       "0        99373   0.910             0.000  C#    0.3460    -1.828  Major   \n",
       "1       137373   0.737             0.000  F#    0.1510    -5.559  Minor   \n",
       "2       170267   0.131             0.000   C    0.1030   -13.879  Minor   \n",
       "3       152427   0.326             0.000  C#    0.0985   -12.178  Major   \n",
       "4        82625   0.225             0.123   F    0.2020   -21.150  Major   \n",
       "\n",
       "   speechiness    tempo time_signature  valence  \n",
       "0       0.0525  166.969            4/4    0.814  \n",
       "1       0.0868  174.003            4/4    0.816  \n",
       "2       0.0362   99.488            5/4    0.368  \n",
       "3       0.0395  171.758            4/4    0.227  \n",
       "4       0.0456  140.576            4/4    0.390  "
      ]
     },
     "execution_count": 1,
     "metadata": {},
     "output_type": "execute_result"
    }
   ],
   "source": [
    "import pandas as pd\n",
    "import numpy as np\n",
    "import seaborn as sns\n",
    "import matplotlib.pyplot as plt\n",
    "\n",
    "from sklearn.linear_model import LinearRegression\n",
    "from sklearn.linear_model import LogisticRegression\n",
    "from sklearn.ensemble import RandomForestClassifier\n",
    "from sklearn.neighbors import KNeighborsClassifier, KNeighborsRegressor\n",
    "from sklearn.tree import DecisionTreeClassifier\n",
    "\n",
    "from sklearn.model_selection import train_test_split\n",
    "from sklearn.metrics import mean_absolute_error\n",
    "\n",
    "df = pd.read_csv('D:\\Programming_Projects\\ML_Classic_spotify\\SpotifyFeatures.csv')\n",
    "#df=df.drop_duplicates(\"track_name\")\n",
    "df.head()\n"
   ]
  },
  {
   "cell_type": "markdown",
   "id": "feea4552",
   "metadata": {},
   "source": [
    "<font size=\"3.5\">Let's check types of features, and aslo check if dataframe Nan has data</font>"
   ]
  },
  {
   "cell_type": "code",
   "execution_count": 2,
   "id": "36d66da7",
   "metadata": {
    "pycharm": {
     "name": "#%%\n"
    },
    "scrolled": true
   },
   "outputs": [
    {
     "name": "stdout",
     "output_type": "stream",
     "text": [
      "<class 'pandas.core.frame.DataFrame'>\n",
      "RangeIndex: 232725 entries, 0 to 232724\n",
      "Data columns (total 18 columns):\n",
      " #   Column            Non-Null Count   Dtype  \n",
      "---  ------            --------------   -----  \n",
      " 0   genre             232725 non-null  object \n",
      " 1   artist_name       232725 non-null  object \n",
      " 2   track_name        232725 non-null  object \n",
      " 3   track_id          232725 non-null  object \n",
      " 4   popularity        232725 non-null  int64  \n",
      " 5   acousticness      232725 non-null  float64\n",
      " 6   danceability      232725 non-null  float64\n",
      " 7   duration_ms       232725 non-null  int64  \n",
      " 8   energy            232725 non-null  float64\n",
      " 9   instrumentalness  232725 non-null  float64\n",
      " 10  key               232725 non-null  object \n",
      " 11  liveness          232725 non-null  float64\n",
      " 12  loudness          232725 non-null  float64\n",
      " 13  mode              232725 non-null  object \n",
      " 14  speechiness       232725 non-null  float64\n",
      " 15  tempo             232725 non-null  float64\n",
      " 16  time_signature    232725 non-null  object \n",
      " 17  valence           232725 non-null  float64\n",
      "dtypes: float64(9), int64(2), object(7)\n",
      "memory usage: 32.0+ MB\n"
     ]
    }
   ],
   "source": [
    "df.info()"
   ]
  },
  {
   "cell_type": "markdown",
   "id": "52d765bf",
   "metadata": {},
   "source": [
    "<font size=\"3.5\">Dataframe doesn't have any Nan data. Great!"
   ]
  },
  {
   "cell_type": "markdown",
   "id": "e858aabf",
   "metadata": {},
   "source": [
    "<font size=\"3.5\">Let's checkout if there are any duplicates of tracks.\n"
   ]
  },
  {
   "cell_type": "code",
   "execution_count": 3,
   "id": "fae6ce21",
   "metadata": {},
   "outputs": [
    {
     "data": {
      "text/plain": [
       "False    148615\n",
       "True      84110\n",
       "Name: track_name, dtype: int64"
      ]
     },
     "execution_count": 3,
     "metadata": {},
     "output_type": "execute_result"
    }
   ],
   "source": [
    "df.track_name.duplicated().value_counts()\n"
   ]
  },
  {
   "cell_type": "markdown",
   "id": "2e45ad65",
   "metadata": {},
   "source": [
    "There is 84110 dublicated tracks. A big number to give us wrong statistics. \n",
    "Let's find out what the reason:"
   ]
  },
  {
   "cell_type": "code",
   "execution_count": 4,
   "id": "5ca40c5e",
   "metadata": {},
   "outputs": [
    {
     "data": {
      "text/html": [
       "<div>\n",
       "<style scoped>\n",
       "    .dataframe tbody tr th:only-of-type {\n",
       "        vertical-align: middle;\n",
       "    }\n",
       "\n",
       "    .dataframe tbody tr th {\n",
       "        vertical-align: top;\n",
       "    }\n",
       "\n",
       "    .dataframe thead th {\n",
       "        text-align: right;\n",
       "    }\n",
       "</style>\n",
       "<table border=\"1\" class=\"dataframe\">\n",
       "  <thead>\n",
       "    <tr style=\"text-align: right;\">\n",
       "      <th></th>\n",
       "      <th>genre</th>\n",
       "      <th>artist_name</th>\n",
       "      <th>track_name</th>\n",
       "      <th>track_id</th>\n",
       "      <th>popularity</th>\n",
       "      <th>acousticness</th>\n",
       "      <th>danceability</th>\n",
       "      <th>duration_ms</th>\n",
       "      <th>energy</th>\n",
       "      <th>instrumentalness</th>\n",
       "      <th>key</th>\n",
       "      <th>liveness</th>\n",
       "      <th>loudness</th>\n",
       "      <th>mode</th>\n",
       "      <th>speechiness</th>\n",
       "      <th>tempo</th>\n",
       "      <th>time_signature</th>\n",
       "      <th>valence</th>\n",
       "    </tr>\n",
       "  </thead>\n",
       "  <tbody>\n",
       "    <tr>\n",
       "      <th>948</th>\n",
       "      <td>Country</td>\n",
       "      <td>Alan Jackson</td>\n",
       "      <td>How Great Thou Art</td>\n",
       "      <td>1mGQuFssuBEYYo2ZydhTeT</td>\n",
       "      <td>43</td>\n",
       "      <td>0.85300</td>\n",
       "      <td>0.348</td>\n",
       "      <td>212827</td>\n",
       "      <td>0.204</td>\n",
       "      <td>0.000002</td>\n",
       "      <td>G#</td>\n",
       "      <td>0.139</td>\n",
       "      <td>-10.576</td>\n",
       "      <td>Major</td>\n",
       "      <td>0.0292</td>\n",
       "      <td>174.519</td>\n",
       "      <td>4/4</td>\n",
       "      <td>0.174</td>\n",
       "    </tr>\n",
       "    <tr>\n",
       "      <th>1012</th>\n",
       "      <td>Country</td>\n",
       "      <td>Tech N9ne Collabos</td>\n",
       "      <td>Loud</td>\n",
       "      <td>7LG1SR44Kh4f9lgyXSdWTD</td>\n",
       "      <td>43</td>\n",
       "      <td>0.25200</td>\n",
       "      <td>0.865</td>\n",
       "      <td>291867</td>\n",
       "      <td>0.878</td>\n",
       "      <td>0.000000</td>\n",
       "      <td>C#</td>\n",
       "      <td>0.107</td>\n",
       "      <td>-2.637</td>\n",
       "      <td>Minor</td>\n",
       "      <td>0.2710</td>\n",
       "      <td>140.074</td>\n",
       "      <td>4/4</td>\n",
       "      <td>0.766</td>\n",
       "    </tr>\n",
       "    <tr>\n",
       "      <th>1068</th>\n",
       "      <td>Country</td>\n",
       "      <td>Brooks &amp; Dunn</td>\n",
       "      <td>Indian Summer</td>\n",
       "      <td>5NR4kWeHWiSGObe0dehpGD</td>\n",
       "      <td>43</td>\n",
       "      <td>0.39600</td>\n",
       "      <td>0.628</td>\n",
       "      <td>262060</td>\n",
       "      <td>0.575</td>\n",
       "      <td>0.000135</td>\n",
       "      <td>A</td>\n",
       "      <td>0.217</td>\n",
       "      <td>-6.049</td>\n",
       "      <td>Major</td>\n",
       "      <td>0.0274</td>\n",
       "      <td>94.003</td>\n",
       "      <td>4/4</td>\n",
       "      <td>0.377</td>\n",
       "    </tr>\n",
       "    <tr>\n",
       "      <th>1152</th>\n",
       "      <td>Alternative</td>\n",
       "      <td>Radiohead</td>\n",
       "      <td>Creep</td>\n",
       "      <td>6b2oQwSGFkzsMtQruIWm2p</td>\n",
       "      <td>78</td>\n",
       "      <td>0.01020</td>\n",
       "      <td>0.515</td>\n",
       "      <td>238640</td>\n",
       "      <td>0.430</td>\n",
       "      <td>0.000141</td>\n",
       "      <td>G</td>\n",
       "      <td>0.129</td>\n",
       "      <td>-9.935</td>\n",
       "      <td>Major</td>\n",
       "      <td>0.0369</td>\n",
       "      <td>91.841</td>\n",
       "      <td>4/4</td>\n",
       "      <td>0.104</td>\n",
       "    </tr>\n",
       "    <tr>\n",
       "      <th>1175</th>\n",
       "      <td>Alternative</td>\n",
       "      <td>Skillet</td>\n",
       "      <td>Hero</td>\n",
       "      <td>4CbKVDZkYKdv69I4bCaKUq</td>\n",
       "      <td>68</td>\n",
       "      <td>0.00791</td>\n",
       "      <td>0.533</td>\n",
       "      <td>186813</td>\n",
       "      <td>0.967</td>\n",
       "      <td>0.000000</td>\n",
       "      <td>C#</td>\n",
       "      <td>0.336</td>\n",
       "      <td>-2.543</td>\n",
       "      <td>Major</td>\n",
       "      <td>0.0995</td>\n",
       "      <td>142.018</td>\n",
       "      <td>4/4</td>\n",
       "      <td>0.782</td>\n",
       "    </tr>\n",
       "  </tbody>\n",
       "</table>\n",
       "</div>"
      ],
      "text/plain": [
       "            genre         artist_name          track_name  \\\n",
       "948       Country        Alan Jackson  How Great Thou Art   \n",
       "1012      Country  Tech N9ne Collabos                Loud   \n",
       "1068      Country       Brooks & Dunn       Indian Summer   \n",
       "1152  Alternative           Radiohead               Creep   \n",
       "1175  Alternative             Skillet                Hero   \n",
       "\n",
       "                    track_id  popularity  acousticness  danceability  \\\n",
       "948   1mGQuFssuBEYYo2ZydhTeT          43       0.85300         0.348   \n",
       "1012  7LG1SR44Kh4f9lgyXSdWTD          43       0.25200         0.865   \n",
       "1068  5NR4kWeHWiSGObe0dehpGD          43       0.39600         0.628   \n",
       "1152  6b2oQwSGFkzsMtQruIWm2p          78       0.01020         0.515   \n",
       "1175  4CbKVDZkYKdv69I4bCaKUq          68       0.00791         0.533   \n",
       "\n",
       "      duration_ms  energy  instrumentalness key  liveness  loudness   mode  \\\n",
       "948        212827   0.204          0.000002  G#     0.139   -10.576  Major   \n",
       "1012       291867   0.878          0.000000  C#     0.107    -2.637  Minor   \n",
       "1068       262060   0.575          0.000135   A     0.217    -6.049  Major   \n",
       "1152       238640   0.430          0.000141   G     0.129    -9.935  Major   \n",
       "1175       186813   0.967          0.000000  C#     0.336    -2.543  Major   \n",
       "\n",
       "      speechiness    tempo time_signature  valence  \n",
       "948        0.0292  174.519            4/4    0.174  \n",
       "1012       0.2710  140.074            4/4    0.766  \n",
       "1068       0.0274   94.003            4/4    0.377  \n",
       "1152       0.0369   91.841            4/4    0.104  \n",
       "1175       0.0995  142.018            4/4    0.782  "
      ]
     },
     "execution_count": 4,
     "metadata": {},
     "output_type": "execute_result"
    }
   ],
   "source": [
    "df[df.track_name.duplicated()].head()"
   ]
  },
  {
   "cell_type": "code",
   "execution_count": 5,
   "id": "7b9ea65b",
   "metadata": {
    "scrolled": true
   },
   "outputs": [
    {
     "data": {
      "text/html": [
       "<div>\n",
       "<style scoped>\n",
       "    .dataframe tbody tr th:only-of-type {\n",
       "        vertical-align: middle;\n",
       "    }\n",
       "\n",
       "    .dataframe tbody tr th {\n",
       "        vertical-align: top;\n",
       "    }\n",
       "\n",
       "    .dataframe thead th {\n",
       "        text-align: right;\n",
       "    }\n",
       "</style>\n",
       "<table border=\"1\" class=\"dataframe\">\n",
       "  <thead>\n",
       "    <tr style=\"text-align: right;\">\n",
       "      <th></th>\n",
       "      <th>genre</th>\n",
       "      <th>artist_name</th>\n",
       "      <th>track_name</th>\n",
       "      <th>track_id</th>\n",
       "      <th>popularity</th>\n",
       "      <th>acousticness</th>\n",
       "      <th>danceability</th>\n",
       "      <th>duration_ms</th>\n",
       "      <th>energy</th>\n",
       "      <th>instrumentalness</th>\n",
       "      <th>key</th>\n",
       "      <th>liveness</th>\n",
       "      <th>loudness</th>\n",
       "      <th>mode</th>\n",
       "      <th>speechiness</th>\n",
       "      <th>tempo</th>\n",
       "      <th>time_signature</th>\n",
       "      <th>valence</th>\n",
       "    </tr>\n",
       "  </thead>\n",
       "  <tbody>\n",
       "    <tr>\n",
       "      <th>103174</th>\n",
       "      <td>Children’s Music</td>\n",
       "      <td>Radiohead</td>\n",
       "      <td>(Nice Dream)</td>\n",
       "      <td>4QbQ55kHcRNho6XLaPctT1</td>\n",
       "      <td>54</td>\n",
       "      <td>0.1610</td>\n",
       "      <td>0.262</td>\n",
       "      <td>233227</td>\n",
       "      <td>0.567</td>\n",
       "      <td>0.263</td>\n",
       "      <td>A</td>\n",
       "      <td>0.2250</td>\n",
       "      <td>-11.075</td>\n",
       "      <td>Major</td>\n",
       "      <td>0.0344</td>\n",
       "      <td>172.857</td>\n",
       "      <td>3/4</td>\n",
       "      <td>0.377</td>\n",
       "    </tr>\n",
       "    <tr>\n",
       "      <th>12030</th>\n",
       "      <td>Alternative</td>\n",
       "      <td>Radiohead</td>\n",
       "      <td>(Nice Dream)</td>\n",
       "      <td>4QbQ55kHcRNho6XLaPctT1</td>\n",
       "      <td>51</td>\n",
       "      <td>0.1610</td>\n",
       "      <td>0.262</td>\n",
       "      <td>233227</td>\n",
       "      <td>0.567</td>\n",
       "      <td>0.263</td>\n",
       "      <td>A</td>\n",
       "      <td>0.2250</td>\n",
       "      <td>-11.075</td>\n",
       "      <td>Major</td>\n",
       "      <td>0.0344</td>\n",
       "      <td>172.857</td>\n",
       "      <td>3/4</td>\n",
       "      <td>0.377</td>\n",
       "    </tr>\n",
       "    <tr>\n",
       "      <th>96432</th>\n",
       "      <td>Indie</td>\n",
       "      <td>Radiohead</td>\n",
       "      <td>15 Step</td>\n",
       "      <td>6dsq7Nt5mIFzvm5kIYNORy</td>\n",
       "      <td>62</td>\n",
       "      <td>0.0489</td>\n",
       "      <td>0.600</td>\n",
       "      <td>237293</td>\n",
       "      <td>0.853</td>\n",
       "      <td>0.346</td>\n",
       "      <td>C#</td>\n",
       "      <td>0.0934</td>\n",
       "      <td>-7.584</td>\n",
       "      <td>Major</td>\n",
       "      <td>0.0423</td>\n",
       "      <td>94.457</td>\n",
       "      <td>4/4</td>\n",
       "      <td>0.847</td>\n",
       "    </tr>\n",
       "    <tr>\n",
       "      <th>97480</th>\n",
       "      <td>Children’s Music</td>\n",
       "      <td>Radiohead</td>\n",
       "      <td>15 Step</td>\n",
       "      <td>6dsq7Nt5mIFzvm5kIYNORy</td>\n",
       "      <td>61</td>\n",
       "      <td>0.0489</td>\n",
       "      <td>0.600</td>\n",
       "      <td>237293</td>\n",
       "      <td>0.853</td>\n",
       "      <td>0.346</td>\n",
       "      <td>C#</td>\n",
       "      <td>0.0934</td>\n",
       "      <td>-7.584</td>\n",
       "      <td>Major</td>\n",
       "      <td>0.0423</td>\n",
       "      <td>94.457</td>\n",
       "      <td>4/4</td>\n",
       "      <td>0.847</td>\n",
       "    </tr>\n",
       "    <tr>\n",
       "      <th>4881</th>\n",
       "      <td>Alternative</td>\n",
       "      <td>Radiohead</td>\n",
       "      <td>15 Step</td>\n",
       "      <td>6dsq7Nt5mIFzvm5kIYNORy</td>\n",
       "      <td>58</td>\n",
       "      <td>0.0489</td>\n",
       "      <td>0.600</td>\n",
       "      <td>237293</td>\n",
       "      <td>0.853</td>\n",
       "      <td>0.346</td>\n",
       "      <td>C#</td>\n",
       "      <td>0.0934</td>\n",
       "      <td>-7.584</td>\n",
       "      <td>Major</td>\n",
       "      <td>0.0423</td>\n",
       "      <td>94.457</td>\n",
       "      <td>4/4</td>\n",
       "      <td>0.847</td>\n",
       "    </tr>\n",
       "    <tr>\n",
       "      <th>...</th>\n",
       "      <td>...</td>\n",
       "      <td>...</td>\n",
       "      <td>...</td>\n",
       "      <td>...</td>\n",
       "      <td>...</td>\n",
       "      <td>...</td>\n",
       "      <td>...</td>\n",
       "      <td>...</td>\n",
       "      <td>...</td>\n",
       "      <td>...</td>\n",
       "      <td>...</td>\n",
       "      <td>...</td>\n",
       "      <td>...</td>\n",
       "      <td>...</td>\n",
       "      <td>...</td>\n",
       "      <td>...</td>\n",
       "      <td>...</td>\n",
       "      <td>...</td>\n",
       "    </tr>\n",
       "    <tr>\n",
       "      <th>2875</th>\n",
       "      <td>Alternative</td>\n",
       "      <td>Radiohead</td>\n",
       "      <td>Weird Fishes/ Arpeggi</td>\n",
       "      <td>4Iyo50UoYhuuYORMLrGDci</td>\n",
       "      <td>63</td>\n",
       "      <td>0.7740</td>\n",
       "      <td>0.538</td>\n",
       "      <td>318187</td>\n",
       "      <td>0.610</td>\n",
       "      <td>0.749</td>\n",
       "      <td>B</td>\n",
       "      <td>0.0909</td>\n",
       "      <td>-8.027</td>\n",
       "      <td>Minor</td>\n",
       "      <td>0.0392</td>\n",
       "      <td>152.999</td>\n",
       "      <td>4/4</td>\n",
       "      <td>0.199</td>\n",
       "    </tr>\n",
       "    <tr>\n",
       "      <th>145112</th>\n",
       "      <td>Indie</td>\n",
       "      <td>Radiohead</td>\n",
       "      <td>You And Whose Army?</td>\n",
       "      <td>6UFvGJalSngqprmUJd59Eo</td>\n",
       "      <td>57</td>\n",
       "      <td>0.7940</td>\n",
       "      <td>0.295</td>\n",
       "      <td>191000</td>\n",
       "      <td>0.150</td>\n",
       "      <td>0.208</td>\n",
       "      <td>C#</td>\n",
       "      <td>0.1030</td>\n",
       "      <td>-10.243</td>\n",
       "      <td>Minor</td>\n",
       "      <td>0.0325</td>\n",
       "      <td>137.393</td>\n",
       "      <td>4/4</td>\n",
       "      <td>0.131</td>\n",
       "    </tr>\n",
       "    <tr>\n",
       "      <th>101954</th>\n",
       "      <td>Children’s Music</td>\n",
       "      <td>Radiohead</td>\n",
       "      <td>You And Whose Army?</td>\n",
       "      <td>6UFvGJalSngqprmUJd59Eo</td>\n",
       "      <td>56</td>\n",
       "      <td>0.7940</td>\n",
       "      <td>0.295</td>\n",
       "      <td>191000</td>\n",
       "      <td>0.150</td>\n",
       "      <td>0.208</td>\n",
       "      <td>C#</td>\n",
       "      <td>0.1030</td>\n",
       "      <td>-10.243</td>\n",
       "      <td>Minor</td>\n",
       "      <td>0.0325</td>\n",
       "      <td>137.393</td>\n",
       "      <td>4/4</td>\n",
       "      <td>0.131</td>\n",
       "    </tr>\n",
       "    <tr>\n",
       "      <th>156323</th>\n",
       "      <td>Rock</td>\n",
       "      <td>Radiohead</td>\n",
       "      <td>You And Whose Army?</td>\n",
       "      <td>6UFvGJalSngqprmUJd59Eo</td>\n",
       "      <td>57</td>\n",
       "      <td>0.7940</td>\n",
       "      <td>0.295</td>\n",
       "      <td>191000</td>\n",
       "      <td>0.150</td>\n",
       "      <td>0.208</td>\n",
       "      <td>C#</td>\n",
       "      <td>0.1030</td>\n",
       "      <td>-10.243</td>\n",
       "      <td>Minor</td>\n",
       "      <td>0.0325</td>\n",
       "      <td>137.393</td>\n",
       "      <td>4/4</td>\n",
       "      <td>0.131</td>\n",
       "    </tr>\n",
       "    <tr>\n",
       "      <th>11317</th>\n",
       "      <td>Alternative</td>\n",
       "      <td>Radiohead</td>\n",
       "      <td>You And Whose Army?</td>\n",
       "      <td>6UFvGJalSngqprmUJd59Eo</td>\n",
       "      <td>52</td>\n",
       "      <td>0.7940</td>\n",
       "      <td>0.295</td>\n",
       "      <td>191000</td>\n",
       "      <td>0.150</td>\n",
       "      <td>0.208</td>\n",
       "      <td>C#</td>\n",
       "      <td>0.1030</td>\n",
       "      <td>-10.243</td>\n",
       "      <td>Minor</td>\n",
       "      <td>0.0325</td>\n",
       "      <td>137.393</td>\n",
       "      <td>4/4</td>\n",
       "      <td>0.131</td>\n",
       "    </tr>\n",
       "  </tbody>\n",
       "</table>\n",
       "<p>211 rows × 18 columns</p>\n",
       "</div>"
      ],
      "text/plain": [
       "                   genre artist_name             track_name  \\\n",
       "103174  Children’s Music   Radiohead           (Nice Dream)   \n",
       "12030        Alternative   Radiohead           (Nice Dream)   \n",
       "96432              Indie   Radiohead                15 Step   \n",
       "97480   Children’s Music   Radiohead                15 Step   \n",
       "4881         Alternative   Radiohead                15 Step   \n",
       "...                  ...         ...                    ...   \n",
       "2875         Alternative   Radiohead  Weird Fishes/ Arpeggi   \n",
       "145112             Indie   Radiohead    You And Whose Army?   \n",
       "101954  Children’s Music   Radiohead    You And Whose Army?   \n",
       "156323              Rock   Radiohead    You And Whose Army?   \n",
       "11317        Alternative   Radiohead    You And Whose Army?   \n",
       "\n",
       "                      track_id  popularity  acousticness  danceability  \\\n",
       "103174  4QbQ55kHcRNho6XLaPctT1          54        0.1610         0.262   \n",
       "12030   4QbQ55kHcRNho6XLaPctT1          51        0.1610         0.262   \n",
       "96432   6dsq7Nt5mIFzvm5kIYNORy          62        0.0489         0.600   \n",
       "97480   6dsq7Nt5mIFzvm5kIYNORy          61        0.0489         0.600   \n",
       "4881    6dsq7Nt5mIFzvm5kIYNORy          58        0.0489         0.600   \n",
       "...                        ...         ...           ...           ...   \n",
       "2875    4Iyo50UoYhuuYORMLrGDci          63        0.7740         0.538   \n",
       "145112  6UFvGJalSngqprmUJd59Eo          57        0.7940         0.295   \n",
       "101954  6UFvGJalSngqprmUJd59Eo          56        0.7940         0.295   \n",
       "156323  6UFvGJalSngqprmUJd59Eo          57        0.7940         0.295   \n",
       "11317   6UFvGJalSngqprmUJd59Eo          52        0.7940         0.295   \n",
       "\n",
       "        duration_ms  energy  instrumentalness key  liveness  loudness   mode  \\\n",
       "103174       233227   0.567             0.263   A    0.2250   -11.075  Major   \n",
       "12030        233227   0.567             0.263   A    0.2250   -11.075  Major   \n",
       "96432        237293   0.853             0.346  C#    0.0934    -7.584  Major   \n",
       "97480        237293   0.853             0.346  C#    0.0934    -7.584  Major   \n",
       "4881         237293   0.853             0.346  C#    0.0934    -7.584  Major   \n",
       "...             ...     ...               ...  ..       ...       ...    ...   \n",
       "2875         318187   0.610             0.749   B    0.0909    -8.027  Minor   \n",
       "145112       191000   0.150             0.208  C#    0.1030   -10.243  Minor   \n",
       "101954       191000   0.150             0.208  C#    0.1030   -10.243  Minor   \n",
       "156323       191000   0.150             0.208  C#    0.1030   -10.243  Minor   \n",
       "11317        191000   0.150             0.208  C#    0.1030   -10.243  Minor   \n",
       "\n",
       "        speechiness    tempo time_signature  valence  \n",
       "103174       0.0344  172.857            3/4    0.377  \n",
       "12030        0.0344  172.857            3/4    0.377  \n",
       "96432        0.0423   94.457            4/4    0.847  \n",
       "97480        0.0423   94.457            4/4    0.847  \n",
       "4881         0.0423   94.457            4/4    0.847  \n",
       "...             ...      ...            ...      ...  \n",
       "2875         0.0392  152.999            4/4    0.199  \n",
       "145112       0.0325  137.393            4/4    0.131  \n",
       "101954       0.0325  137.393            4/4    0.131  \n",
       "156323       0.0325  137.393            4/4    0.131  \n",
       "11317        0.0325  137.393            4/4    0.131  \n",
       "\n",
       "[211 rows x 18 columns]"
      ]
     },
     "execution_count": 5,
     "metadata": {},
     "output_type": "execute_result"
    }
   ],
   "source": [
    "df[df[\"artist_name\"]==\"Radiohead\"].sort_values(by=\"track_name\")"
   ]
  },
  {
   "cell_type": "code",
   "execution_count": 21,
   "id": "68009e81",
   "metadata": {},
   "outputs": [],
   "source": [
    "df['Children’s Music']=df.genre.replace(\"Children’s Music\",'Children’s Music' )"
   ]
  },
  {
   "cell_type": "code",
   "execution_count": 18,
   "id": "f0a1ce61",
   "metadata": {},
   "outputs": [
    {
     "data": {
      "text/html": [
       "<div>\n",
       "<style scoped>\n",
       "    .dataframe tbody tr th:only-of-type {\n",
       "        vertical-align: middle;\n",
       "    }\n",
       "\n",
       "    .dataframe tbody tr th {\n",
       "        vertical-align: top;\n",
       "    }\n",
       "\n",
       "    .dataframe thead th {\n",
       "        text-align: right;\n",
       "    }\n",
       "</style>\n",
       "<table border=\"1\" class=\"dataframe\">\n",
       "  <thead>\n",
       "    <tr style=\"text-align: right;\">\n",
       "      <th></th>\n",
       "      <th>genre</th>\n",
       "      <th>artist_name</th>\n",
       "      <th>track_name</th>\n",
       "      <th>track_id</th>\n",
       "      <th>popularity</th>\n",
       "      <th>acousticness</th>\n",
       "      <th>danceability</th>\n",
       "      <th>duration_ms</th>\n",
       "      <th>energy</th>\n",
       "      <th>instrumentalness</th>\n",
       "      <th>key</th>\n",
       "      <th>liveness</th>\n",
       "      <th>loudness</th>\n",
       "      <th>mode</th>\n",
       "      <th>speechiness</th>\n",
       "      <th>tempo</th>\n",
       "      <th>time_signature</th>\n",
       "      <th>valence</th>\n",
       "    </tr>\n",
       "  </thead>\n",
       "  <tbody>\n",
       "    <tr>\n",
       "      <th>114390</th>\n",
       "      <td>Children’s Music</td>\n",
       "      <td>Children’s Music</td>\n",
       "      <td>Children’s Music</td>\n",
       "      <td>Children’s Music</td>\n",
       "      <td>Children’s Music</td>\n",
       "      <td>Children’s Music</td>\n",
       "      <td>Children’s Music</td>\n",
       "      <td>Children’s Music</td>\n",
       "      <td>Children’s Music</td>\n",
       "      <td>Children’s Music</td>\n",
       "      <td>Children’s Music</td>\n",
       "      <td>Children’s Music</td>\n",
       "      <td>Children’s Music</td>\n",
       "      <td>Children’s Music</td>\n",
       "      <td>Children’s Music</td>\n",
       "      <td>Children’s Music</td>\n",
       "      <td>Children’s Music</td>\n",
       "      <td>Children’s Music</td>\n",
       "    </tr>\n",
       "  </tbody>\n",
       "</table>\n",
       "</div>"
      ],
      "text/plain": [
       "                   genre       artist_name        track_name  \\\n",
       "114390  Children’s Music  Children’s Music  Children’s Music   \n",
       "\n",
       "                track_id        popularity      acousticness  \\\n",
       "114390  Children’s Music  Children’s Music  Children’s Music   \n",
       "\n",
       "            danceability       duration_ms            energy  \\\n",
       "114390  Children’s Music  Children’s Music  Children’s Music   \n",
       "\n",
       "        instrumentalness               key          liveness  \\\n",
       "114390  Children’s Music  Children’s Music  Children’s Music   \n",
       "\n",
       "                loudness              mode       speechiness  \\\n",
       "114390  Children’s Music  Children’s Music  Children’s Music   \n",
       "\n",
       "                   tempo    time_signature           valence  \n",
       "114390  Children’s Music  Children’s Music  Children’s Music  "
      ]
     },
     "execution_count": 18,
     "metadata": {},
     "output_type": "execute_result"
    }
   ],
   "source": []
  },
  {
   "cell_type": "code",
   "execution_count": 15,
   "id": "c1beff51",
   "metadata": {},
   "outputs": [
    {
     "ename": "TypeError",
     "evalue": "Neither the `x` nor `y` variable appears to be numeric.",
     "output_type": "error",
     "traceback": [
      "\u001b[1;31m---------------------------------------------------------------------------\u001b[0m",
      "\u001b[1;31mTypeError\u001b[0m                                 Traceback (most recent call last)",
      "\u001b[1;32m~\\AppData\\Local\\Temp/ipykernel_6800/2631829900.py\u001b[0m in \u001b[0;36m<module>\u001b[1;34m\u001b[0m\n\u001b[0;32m      1\u001b[0m \u001b[0msns\u001b[0m\u001b[1;33m.\u001b[0m\u001b[0mset\u001b[0m\u001b[1;33m(\u001b[0m\u001b[0mrc\u001b[0m\u001b[1;33m=\u001b[0m\u001b[1;33m{\u001b[0m\u001b[1;34m'figure.figsize'\u001b[0m\u001b[1;33m:\u001b[0m\u001b[1;33m(\u001b[0m\u001b[1;36m16\u001b[0m\u001b[1;33m,\u001b[0m\u001b[1;36m8\u001b[0m\u001b[1;33m)\u001b[0m\u001b[1;33m}\u001b[0m\u001b[1;33m)\u001b[0m\u001b[1;33m\u001b[0m\u001b[1;33m\u001b[0m\u001b[0m\n\u001b[0;32m      2\u001b[0m \u001b[0mdf\u001b[0m\u001b[1;33m[\u001b[0m\u001b[1;33m[\u001b[0m\u001b[0mdf\u001b[0m\u001b[1;33m[\u001b[0m\u001b[1;34m\"genre\"\u001b[0m\u001b[1;33m]\u001b[0m \u001b[1;33m==\u001b[0m \u001b[1;34m\"Children’s Music\"\u001b[0m\u001b[1;33m,\u001b[0m \u001b[1;34m\"genre\"\u001b[0m\u001b[1;33m]\u001b[0m\u001b[1;33m]\u001b[0m \u001b[1;33m=\u001b[0m \u001b[1;34m'Children’s Music'\u001b[0m\u001b[1;33m\u001b[0m\u001b[1;33m\u001b[0m\u001b[0m\n\u001b[1;32m----> 3\u001b[1;33m \u001b[0mbp\u001b[0m\u001b[1;33m=\u001b[0m\u001b[0msns\u001b[0m\u001b[1;33m.\u001b[0m\u001b[0mbarplot\u001b[0m\u001b[1;33m(\u001b[0m\u001b[0mx\u001b[0m\u001b[1;33m=\u001b[0m\u001b[1;34m\"genre\"\u001b[0m\u001b[1;33m,\u001b[0m \u001b[0my\u001b[0m\u001b[1;33m=\u001b[0m\u001b[1;34m\"popularity\"\u001b[0m\u001b[1;33m,\u001b[0m \u001b[0mdata\u001b[0m\u001b[1;33m=\u001b[0m\u001b[0mdf\u001b[0m\u001b[1;33m)\u001b[0m\u001b[1;33m\u001b[0m\u001b[1;33m\u001b[0m\u001b[0m\n\u001b[0m\u001b[0;32m      4\u001b[0m \u001b[1;33m\u001b[0m\u001b[0m\n\u001b[0;32m      5\u001b[0m \u001b[1;32mfor\u001b[0m \u001b[0mitem\u001b[0m \u001b[1;32min\u001b[0m \u001b[0mbp\u001b[0m\u001b[1;33m.\u001b[0m\u001b[0mget_xticklabels\u001b[0m\u001b[1;33m(\u001b[0m\u001b[1;33m)\u001b[0m\u001b[1;33m:\u001b[0m\u001b[1;33m\u001b[0m\u001b[1;33m\u001b[0m\u001b[0m\n",
      "\u001b[1;32mc:\\users\\dforgeek\\appdata\\local\\programs\\python\\python39\\lib\\site-packages\\seaborn\\_decorators.py\u001b[0m in \u001b[0;36minner_f\u001b[1;34m(*args, **kwargs)\u001b[0m\n\u001b[0;32m     44\u001b[0m             )\n\u001b[0;32m     45\u001b[0m         \u001b[0mkwargs\u001b[0m\u001b[1;33m.\u001b[0m\u001b[0mupdate\u001b[0m\u001b[1;33m(\u001b[0m\u001b[1;33m{\u001b[0m\u001b[0mk\u001b[0m\u001b[1;33m:\u001b[0m \u001b[0marg\u001b[0m \u001b[1;32mfor\u001b[0m \u001b[0mk\u001b[0m\u001b[1;33m,\u001b[0m \u001b[0marg\u001b[0m \u001b[1;32min\u001b[0m \u001b[0mzip\u001b[0m\u001b[1;33m(\u001b[0m\u001b[0msig\u001b[0m\u001b[1;33m.\u001b[0m\u001b[0mparameters\u001b[0m\u001b[1;33m,\u001b[0m \u001b[0margs\u001b[0m\u001b[1;33m)\u001b[0m\u001b[1;33m}\u001b[0m\u001b[1;33m)\u001b[0m\u001b[1;33m\u001b[0m\u001b[1;33m\u001b[0m\u001b[0m\n\u001b[1;32m---> 46\u001b[1;33m         \u001b[1;32mreturn\u001b[0m \u001b[0mf\u001b[0m\u001b[1;33m(\u001b[0m\u001b[1;33m**\u001b[0m\u001b[0mkwargs\u001b[0m\u001b[1;33m)\u001b[0m\u001b[1;33m\u001b[0m\u001b[1;33m\u001b[0m\u001b[0m\n\u001b[0m\u001b[0;32m     47\u001b[0m     \u001b[1;32mreturn\u001b[0m \u001b[0minner_f\u001b[0m\u001b[1;33m\u001b[0m\u001b[1;33m\u001b[0m\u001b[0m\n\u001b[0;32m     48\u001b[0m \u001b[1;33m\u001b[0m\u001b[0m\n",
      "\u001b[1;32mc:\\users\\dforgeek\\appdata\\local\\programs\\python\\python39\\lib\\site-packages\\seaborn\\categorical.py\u001b[0m in \u001b[0;36mbarplot\u001b[1;34m(x, y, hue, data, order, hue_order, estimator, ci, n_boot, units, seed, orient, color, palette, saturation, errcolor, errwidth, capsize, dodge, ax, **kwargs)\u001b[0m\n\u001b[0;32m   3180\u001b[0m ):\n\u001b[0;32m   3181\u001b[0m \u001b[1;33m\u001b[0m\u001b[0m\n\u001b[1;32m-> 3182\u001b[1;33m     plotter = _BarPlotter(x, y, hue, data, order, hue_order,\n\u001b[0m\u001b[0;32m   3183\u001b[0m                           \u001b[0mestimator\u001b[0m\u001b[1;33m,\u001b[0m \u001b[0mci\u001b[0m\u001b[1;33m,\u001b[0m \u001b[0mn_boot\u001b[0m\u001b[1;33m,\u001b[0m \u001b[0munits\u001b[0m\u001b[1;33m,\u001b[0m \u001b[0mseed\u001b[0m\u001b[1;33m,\u001b[0m\u001b[1;33m\u001b[0m\u001b[1;33m\u001b[0m\u001b[0m\n\u001b[0;32m   3184\u001b[0m                           \u001b[0morient\u001b[0m\u001b[1;33m,\u001b[0m \u001b[0mcolor\u001b[0m\u001b[1;33m,\u001b[0m \u001b[0mpalette\u001b[0m\u001b[1;33m,\u001b[0m \u001b[0msaturation\u001b[0m\u001b[1;33m,\u001b[0m\u001b[1;33m\u001b[0m\u001b[1;33m\u001b[0m\u001b[0m\n",
      "\u001b[1;32mc:\\users\\dforgeek\\appdata\\local\\programs\\python\\python39\\lib\\site-packages\\seaborn\\categorical.py\u001b[0m in \u001b[0;36m__init__\u001b[1;34m(self, x, y, hue, data, order, hue_order, estimator, ci, n_boot, units, seed, orient, color, palette, saturation, errcolor, errwidth, capsize, dodge)\u001b[0m\n\u001b[0;32m   1582\u001b[0m                  errwidth, capsize, dodge):\n\u001b[0;32m   1583\u001b[0m         \u001b[1;34m\"\"\"Initialize the plotter.\"\"\"\u001b[0m\u001b[1;33m\u001b[0m\u001b[1;33m\u001b[0m\u001b[0m\n\u001b[1;32m-> 1584\u001b[1;33m         self.establish_variables(x, y, hue, data, orient,\n\u001b[0m\u001b[0;32m   1585\u001b[0m                                  order, hue_order, units)\n\u001b[0;32m   1586\u001b[0m         \u001b[0mself\u001b[0m\u001b[1;33m.\u001b[0m\u001b[0mestablish_colors\u001b[0m\u001b[1;33m(\u001b[0m\u001b[0mcolor\u001b[0m\u001b[1;33m,\u001b[0m \u001b[0mpalette\u001b[0m\u001b[1;33m,\u001b[0m \u001b[0msaturation\u001b[0m\u001b[1;33m)\u001b[0m\u001b[1;33m\u001b[0m\u001b[1;33m\u001b[0m\u001b[0m\n",
      "\u001b[1;32mc:\\users\\dforgeek\\appdata\\local\\programs\\python\\python39\\lib\\site-packages\\seaborn\\categorical.py\u001b[0m in \u001b[0;36mestablish_variables\u001b[1;34m(self, x, y, hue, data, orient, order, hue_order, units)\u001b[0m\n\u001b[0;32m    154\u001b[0m \u001b[1;33m\u001b[0m\u001b[0m\n\u001b[0;32m    155\u001b[0m             \u001b[1;31m# Figure out the plotting orientation\u001b[0m\u001b[1;33m\u001b[0m\u001b[1;33m\u001b[0m\u001b[1;33m\u001b[0m\u001b[0m\n\u001b[1;32m--> 156\u001b[1;33m             orient = infer_orient(\n\u001b[0m\u001b[0;32m    157\u001b[0m                 \u001b[0mx\u001b[0m\u001b[1;33m,\u001b[0m \u001b[0my\u001b[0m\u001b[1;33m,\u001b[0m \u001b[0morient\u001b[0m\u001b[1;33m,\u001b[0m \u001b[0mrequire_numeric\u001b[0m\u001b[1;33m=\u001b[0m\u001b[0mself\u001b[0m\u001b[1;33m.\u001b[0m\u001b[0mrequire_numeric\u001b[0m\u001b[1;33m\u001b[0m\u001b[1;33m\u001b[0m\u001b[0m\n\u001b[0;32m    158\u001b[0m             )\n",
      "\u001b[1;32mc:\\users\\dforgeek\\appdata\\local\\programs\\python\\python39\\lib\\site-packages\\seaborn\\_core.py\u001b[0m in \u001b[0;36minfer_orient\u001b[1;34m(x, y, orient, require_numeric)\u001b[0m\n\u001b[0;32m   1350\u001b[0m     \u001b[1;32melif\u001b[0m \u001b[0mrequire_numeric\u001b[0m \u001b[1;32mand\u001b[0m \u001b[1;34m\"numeric\"\u001b[0m \u001b[1;32mnot\u001b[0m \u001b[1;32min\u001b[0m \u001b[1;33m(\u001b[0m\u001b[0mx_type\u001b[0m\u001b[1;33m,\u001b[0m \u001b[0my_type\u001b[0m\u001b[1;33m)\u001b[0m\u001b[1;33m:\u001b[0m\u001b[1;33m\u001b[0m\u001b[1;33m\u001b[0m\u001b[0m\n\u001b[0;32m   1351\u001b[0m         \u001b[0merr\u001b[0m \u001b[1;33m=\u001b[0m \u001b[1;34m\"Neither the `x` nor `y` variable appears to be numeric.\"\u001b[0m\u001b[1;33m\u001b[0m\u001b[1;33m\u001b[0m\u001b[0m\n\u001b[1;32m-> 1352\u001b[1;33m         \u001b[1;32mraise\u001b[0m \u001b[0mTypeError\u001b[0m\u001b[1;33m(\u001b[0m\u001b[0merr\u001b[0m\u001b[1;33m)\u001b[0m\u001b[1;33m\u001b[0m\u001b[1;33m\u001b[0m\u001b[0m\n\u001b[0m\u001b[0;32m   1353\u001b[0m \u001b[1;33m\u001b[0m\u001b[0m\n\u001b[0;32m   1354\u001b[0m     \u001b[1;32melse\u001b[0m\u001b[1;33m:\u001b[0m\u001b[1;33m\u001b[0m\u001b[1;33m\u001b[0m\u001b[0m\n",
      "\u001b[1;31mTypeError\u001b[0m: Neither the `x` nor `y` variable appears to be numeric."
     ]
    }
   ],
   "source": [
    "sns.set(rc={'figure.figsize':(16,8)})\n",
    "df[[df[\"genre\"] == \"Children’s Music\", \"genre\"]] = 'Children’s Music'\n",
    "bp=sns.barplot(x=\"genre\", y=\"popularity\", data=df)\n",
    "\n",
    "for item in bp.get_xticklabels():\n",
    "    item.set_rotation(60)\n",
    "    "
   ]
  },
  {
   "cell_type": "markdown",
   "id": "1a9ae34a",
   "metadata": {},
   "source": [
    "After investigation, we can see the reason for duplicates is that songs can be related to multiple genres at the same time. "
   ]
  },
  {
   "cell_type": "markdown",
   "id": "1dbbb6bb",
   "metadata": {},
   "source": [
    "<font size=\"3.5\">Now let's build a correlation matrix and a heatmap for it so we can understand what features affect on popularity."
   ]
  },
  {
   "cell_type": "code",
   "execution_count": 7,
   "id": "ea483190",
   "metadata": {
    "pycharm": {
     "name": "#%%\n"
    }
   },
   "outputs": [
    {
     "data": {
      "text/plain": [
       "<AxesSubplot:>"
      ]
     },
     "execution_count": 7,
     "metadata": {},
     "output_type": "execute_result"
    },
    {
     "data": {
      "image/png": "[encoded data removed]",
      "text/plain": [
       "<Figure size 864x648 with 2 Axes>"
      ]
     },
     "metadata": {},
     "output_type": "display_data"
    }
   ],
   "source": [
    "numeric=df.select_dtypes(exclude=['object'])\n",
    "correlation_mtrx=numeric.corr()\n",
    "sns.set(rc={'figure.figsize':(12,9)})\n",
    "sns.heatmap(correlation_mtrx, annot=True, linewidths=0.1)"
   ]
  },
  {
   "cell_type": "code",
   "execution_count": 8,
   "id": "66ae1c65",
   "metadata": {
    "pycharm": {
     "name": "#%%\n"
    }
   },
   "outputs": [
    {
     "ename": "KeyboardInterrupt",
     "evalue": "",
     "output_type": "error",
     "traceback": [
      "\u001b[1;31m---------------------------------------------------------------------------\u001b[0m",
      "\u001b[1;31mKeyboardInterrupt\u001b[0m                         Traceback (most recent call last)",
      "\u001b[1;32m~\\AppData\\Local\\Temp/ipykernel_6800/427649968.py\u001b[0m in \u001b[0;36m<module>\u001b[1;34m\u001b[0m\n\u001b[0;32m      1\u001b[0m \u001b[0mfeatures\u001b[0m \u001b[1;33m=\u001b[0m \u001b[1;33m[\u001b[0m\u001b[1;34m\"popularity\"\u001b[0m\u001b[1;33m,\u001b[0m \u001b[1;34m\"acousticness\"\u001b[0m\u001b[1;33m]\u001b[0m\u001b[1;33m\u001b[0m\u001b[1;33m\u001b[0m\u001b[0m\n\u001b[0;32m      2\u001b[0m \u001b[0mdf\u001b[0m\u001b[1;33m[\u001b[0m\u001b[0mfeatures\u001b[0m\u001b[1;33m]\u001b[0m\u001b[1;33m.\u001b[0m\u001b[0mhist\u001b[0m\u001b[1;33m(\u001b[0m\u001b[0mfigsize\u001b[0m\u001b[1;33m=\u001b[0m\u001b[1;33m(\u001b[0m\u001b[1;36m10\u001b[0m\u001b[1;33m,\u001b[0m \u001b[1;36m4\u001b[0m\u001b[1;33m)\u001b[0m\u001b[1;33m,\u001b[0m \u001b[0mbins\u001b[0m\u001b[1;33m=\u001b[0m\u001b[1;36m30\u001b[0m\u001b[1;33m)\u001b[0m\u001b[1;33m;\u001b[0m\u001b[1;33m\u001b[0m\u001b[1;33m\u001b[0m\u001b[0m\n\u001b[1;32m----> 3\u001b[1;33m \u001b[0msns\u001b[0m\u001b[1;33m.\u001b[0m\u001b[0mlineplot\u001b[0m\u001b[1;33m(\u001b[0m\u001b[0mx\u001b[0m\u001b[1;33m=\u001b[0m\u001b[1;34m\"acousticness\"\u001b[0m\u001b[1;33m,\u001b[0m \u001b[0my\u001b[0m\u001b[1;33m=\u001b[0m\u001b[1;34m\"popularity\"\u001b[0m\u001b[1;33m,\u001b[0m \u001b[0mdata\u001b[0m\u001b[1;33m=\u001b[0m\u001b[0mdf\u001b[0m\u001b[1;33m[\u001b[0m\u001b[0mfeatures\u001b[0m\u001b[1;33m]\u001b[0m\u001b[1;33m)\u001b[0m\u001b[1;33m\u001b[0m\u001b[1;33m\u001b[0m\u001b[0m\n\u001b[0m",
      "\u001b[1;32mc:\\users\\dforgeek\\appdata\\local\\programs\\python\\python39\\lib\\site-packages\\seaborn\\_decorators.py\u001b[0m in \u001b[0;36minner_f\u001b[1;34m(*args, **kwargs)\u001b[0m\n\u001b[0;32m     44\u001b[0m             )\n\u001b[0;32m     45\u001b[0m         \u001b[0mkwargs\u001b[0m\u001b[1;33m.\u001b[0m\u001b[0mupdate\u001b[0m\u001b[1;33m(\u001b[0m\u001b[1;33m{\u001b[0m\u001b[0mk\u001b[0m\u001b[1;33m:\u001b[0m \u001b[0marg\u001b[0m \u001b[1;32mfor\u001b[0m \u001b[0mk\u001b[0m\u001b[1;33m,\u001b[0m \u001b[0marg\u001b[0m \u001b[1;32min\u001b[0m \u001b[0mzip\u001b[0m\u001b[1;33m(\u001b[0m\u001b[0msig\u001b[0m\u001b[1;33m.\u001b[0m\u001b[0mparameters\u001b[0m\u001b[1;33m,\u001b[0m \u001b[0margs\u001b[0m\u001b[1;33m)\u001b[0m\u001b[1;33m}\u001b[0m\u001b[1;33m)\u001b[0m\u001b[1;33m\u001b[0m\u001b[1;33m\u001b[0m\u001b[0m\n\u001b[1;32m---> 46\u001b[1;33m         \u001b[1;32mreturn\u001b[0m \u001b[0mf\u001b[0m\u001b[1;33m(\u001b[0m\u001b[1;33m**\u001b[0m\u001b[0mkwargs\u001b[0m\u001b[1;33m)\u001b[0m\u001b[1;33m\u001b[0m\u001b[1;33m\u001b[0m\u001b[0m\n\u001b[0m\u001b[0;32m     47\u001b[0m     \u001b[1;32mreturn\u001b[0m \u001b[0minner_f\u001b[0m\u001b[1;33m\u001b[0m\u001b[1;33m\u001b[0m\u001b[0m\n\u001b[0;32m     48\u001b[0m \u001b[1;33m\u001b[0m\u001b[0m\n",
      "\u001b[1;32mc:\\users\\dforgeek\\appdata\\local\\programs\\python\\python39\\lib\\site-packages\\seaborn\\relational.py\u001b[0m in \u001b[0;36mlineplot\u001b[1;34m(x, y, hue, size, style, data, palette, hue_order, hue_norm, sizes, size_order, size_norm, dashes, markers, style_order, units, estimator, ci, n_boot, seed, sort, err_style, err_kws, legend, ax, **kwargs)\u001b[0m\n\u001b[0;32m    708\u001b[0m     \u001b[0mp\u001b[0m\u001b[1;33m.\u001b[0m\u001b[0m_attach\u001b[0m\u001b[1;33m(\u001b[0m\u001b[0max\u001b[0m\u001b[1;33m)\u001b[0m\u001b[1;33m\u001b[0m\u001b[1;33m\u001b[0m\u001b[0m\n\u001b[0;32m    709\u001b[0m \u001b[1;33m\u001b[0m\u001b[0m\n\u001b[1;32m--> 710\u001b[1;33m     \u001b[0mp\u001b[0m\u001b[1;33m.\u001b[0m\u001b[0mplot\u001b[0m\u001b[1;33m(\u001b[0m\u001b[0max\u001b[0m\u001b[1;33m,\u001b[0m \u001b[0mkwargs\u001b[0m\u001b[1;33m)\u001b[0m\u001b[1;33m\u001b[0m\u001b[1;33m\u001b[0m\u001b[0m\n\u001b[0m\u001b[0;32m    711\u001b[0m     \u001b[1;32mreturn\u001b[0m \u001b[0max\u001b[0m\u001b[1;33m\u001b[0m\u001b[1;33m\u001b[0m\u001b[0m\n\u001b[0;32m    712\u001b[0m \u001b[1;33m\u001b[0m\u001b[0m\n",
      "\u001b[1;32mc:\\users\\dforgeek\\appdata\\local\\programs\\python\\python39\\lib\\site-packages\\seaborn\\relational.py\u001b[0m in \u001b[0;36mplot\u001b[1;34m(self, ax, kws)\u001b[0m\n\u001b[0;32m    497\u001b[0m                     \u001b[0merr\u001b[0m \u001b[1;33m=\u001b[0m \u001b[1;34m\"estimator must be None when specifying units\"\u001b[0m\u001b[1;33m\u001b[0m\u001b[1;33m\u001b[0m\u001b[0m\n\u001b[0;32m    498\u001b[0m                     \u001b[1;32mraise\u001b[0m \u001b[0mValueError\u001b[0m\u001b[1;33m(\u001b[0m\u001b[0merr\u001b[0m\u001b[1;33m)\u001b[0m\u001b[1;33m\u001b[0m\u001b[1;33m\u001b[0m\u001b[0m\n\u001b[1;32m--> 499\u001b[1;33m                 \u001b[0mx\u001b[0m\u001b[1;33m,\u001b[0m \u001b[0my\u001b[0m\u001b[1;33m,\u001b[0m \u001b[0my_ci\u001b[0m \u001b[1;33m=\u001b[0m \u001b[0mself\u001b[0m\u001b[1;33m.\u001b[0m\u001b[0maggregate\u001b[0m\u001b[1;33m(\u001b[0m\u001b[0my\u001b[0m\u001b[1;33m,\u001b[0m \u001b[0mx\u001b[0m\u001b[1;33m,\u001b[0m \u001b[0mu\u001b[0m\u001b[1;33m)\u001b[0m\u001b[1;33m\u001b[0m\u001b[1;33m\u001b[0m\u001b[0m\n\u001b[0m\u001b[0;32m    500\u001b[0m             \u001b[1;32melse\u001b[0m\u001b[1;33m:\u001b[0m\u001b[1;33m\u001b[0m\u001b[1;33m\u001b[0m\u001b[0m\n\u001b[0;32m    501\u001b[0m                 \u001b[0my_ci\u001b[0m \u001b[1;33m=\u001b[0m \u001b[1;32mNone\u001b[0m\u001b[1;33m\u001b[0m\u001b[1;33m\u001b[0m\u001b[0m\n",
      "\u001b[1;32mc:\\users\\dforgeek\\appdata\\local\\programs\\python\\python39\\lib\\site-packages\\seaborn\\relational.py\u001b[0m in \u001b[0;36maggregate\u001b[1;34m(self, vals, grouper, units)\u001b[0m\n\u001b[0;32m    412\u001b[0m                                columns=[\"low\", \"high\"]).stack()\n\u001b[0;32m    413\u001b[0m         \u001b[1;32melse\u001b[0m\u001b[1;33m:\u001b[0m\u001b[1;33m\u001b[0m\u001b[1;33m\u001b[0m\u001b[0m\n\u001b[1;32m--> 414\u001b[1;33m             \u001b[0mcis\u001b[0m \u001b[1;33m=\u001b[0m \u001b[0mgrouped\u001b[0m\u001b[1;33m.\u001b[0m\u001b[0mapply\u001b[0m\u001b[1;33m(\u001b[0m\u001b[0mbootstrapped_cis\u001b[0m\u001b[1;33m)\u001b[0m\u001b[1;33m\u001b[0m\u001b[1;33m\u001b[0m\u001b[0m\n\u001b[0m\u001b[0;32m    415\u001b[0m \u001b[1;33m\u001b[0m\u001b[0m\n\u001b[0;32m    416\u001b[0m         \u001b[1;31m# Unpack the CIs into \"wide\" format for plotting\u001b[0m\u001b[1;33m\u001b[0m\u001b[1;33m\u001b[0m\u001b[1;33m\u001b[0m\u001b[0m\n",
      "\u001b[1;32mc:\\users\\dforgeek\\appdata\\local\\programs\\python\\python39\\lib\\site-packages\\pandas\\core\\groupby\\generic.py\u001b[0m in \u001b[0;36mapply\u001b[1;34m(self, func, *args, **kwargs)\u001b[0m\n\u001b[0;32m    221\u001b[0m     )\n\u001b[0;32m    222\u001b[0m     \u001b[1;32mdef\u001b[0m \u001b[0mapply\u001b[0m\u001b[1;33m(\u001b[0m\u001b[0mself\u001b[0m\u001b[1;33m,\u001b[0m \u001b[0mfunc\u001b[0m\u001b[1;33m,\u001b[0m \u001b[1;33m*\u001b[0m\u001b[0margs\u001b[0m\u001b[1;33m,\u001b[0m \u001b[1;33m**\u001b[0m\u001b[0mkwargs\u001b[0m\u001b[1;33m)\u001b[0m\u001b[1;33m:\u001b[0m\u001b[1;33m\u001b[0m\u001b[1;33m\u001b[0m\u001b[0m\n\u001b[1;32m--> 223\u001b[1;33m         \u001b[1;32mreturn\u001b[0m \u001b[0msuper\u001b[0m\u001b[1;33m(\u001b[0m\u001b[1;33m)\u001b[0m\u001b[1;33m.\u001b[0m\u001b[0mapply\u001b[0m\u001b[1;33m(\u001b[0m\u001b[0mfunc\u001b[0m\u001b[1;33m,\u001b[0m \u001b[1;33m*\u001b[0m\u001b[0margs\u001b[0m\u001b[1;33m,\u001b[0m \u001b[1;33m**\u001b[0m\u001b[0mkwargs\u001b[0m\u001b[1;33m)\u001b[0m\u001b[1;33m\u001b[0m\u001b[1;33m\u001b[0m\u001b[0m\n\u001b[0m\u001b[0;32m    224\u001b[0m \u001b[1;33m\u001b[0m\u001b[0m\n\u001b[0;32m    225\u001b[0m     \u001b[1;33m@\u001b[0m\u001b[0mdoc\u001b[0m\u001b[1;33m(\u001b[0m\u001b[0m_agg_template\u001b[0m\u001b[1;33m,\u001b[0m \u001b[0mexamples\u001b[0m\u001b[1;33m=\u001b[0m\u001b[0m_agg_examples_doc\u001b[0m\u001b[1;33m,\u001b[0m \u001b[0mklass\u001b[0m\u001b[1;33m=\u001b[0m\u001b[1;34m\"Series\"\u001b[0m\u001b[1;33m)\u001b[0m\u001b[1;33m\u001b[0m\u001b[1;33m\u001b[0m\u001b[0m\n",
      "\u001b[1;32mc:\\users\\dforgeek\\appdata\\local\\programs\\python\\python39\\lib\\site-packages\\pandas\\core\\groupby\\groupby.py\u001b[0m in \u001b[0;36mapply\u001b[1;34m(self, func, *args, **kwargs)\u001b[0m\n\u001b[0;32m   1251\u001b[0m         \u001b[1;32mwith\u001b[0m \u001b[0moption_context\u001b[0m\u001b[1;33m(\u001b[0m\u001b[1;34m\"mode.chained_assignment\"\u001b[0m\u001b[1;33m,\u001b[0m \u001b[1;32mNone\u001b[0m\u001b[1;33m)\u001b[0m\u001b[1;33m:\u001b[0m\u001b[1;33m\u001b[0m\u001b[1;33m\u001b[0m\u001b[0m\n\u001b[0;32m   1252\u001b[0m             \u001b[1;32mtry\u001b[0m\u001b[1;33m:\u001b[0m\u001b[1;33m\u001b[0m\u001b[1;33m\u001b[0m\u001b[0m\n\u001b[1;32m-> 1253\u001b[1;33m                 \u001b[0mresult\u001b[0m \u001b[1;33m=\u001b[0m \u001b[0mself\u001b[0m\u001b[1;33m.\u001b[0m\u001b[0m_python_apply_general\u001b[0m\u001b[1;33m(\u001b[0m\u001b[0mf\u001b[0m\u001b[1;33m,\u001b[0m \u001b[0mself\u001b[0m\u001b[1;33m.\u001b[0m\u001b[0m_selected_obj\u001b[0m\u001b[1;33m)\u001b[0m\u001b[1;33m\u001b[0m\u001b[1;33m\u001b[0m\u001b[0m\n\u001b[0m\u001b[0;32m   1254\u001b[0m             \u001b[1;32mexcept\u001b[0m \u001b[0mTypeError\u001b[0m\u001b[1;33m:\u001b[0m\u001b[1;33m\u001b[0m\u001b[1;33m\u001b[0m\u001b[0m\n\u001b[0;32m   1255\u001b[0m                 \u001b[1;31m# gh-20949\u001b[0m\u001b[1;33m\u001b[0m\u001b[1;33m\u001b[0m\u001b[1;33m\u001b[0m\u001b[0m\n",
      "\u001b[1;32mc:\\users\\dforgeek\\appdata\\local\\programs\\python\\python39\\lib\\site-packages\\pandas\\core\\groupby\\groupby.py\u001b[0m in \u001b[0;36m_python_apply_general\u001b[1;34m(self, f, data)\u001b[0m\n\u001b[0;32m   1285\u001b[0m             \u001b[0mdata\u001b[0m \u001b[0mafter\u001b[0m \u001b[0mapplying\u001b[0m \u001b[0mf\u001b[0m\u001b[1;33m\u001b[0m\u001b[1;33m\u001b[0m\u001b[0m\n\u001b[0;32m   1286\u001b[0m         \"\"\"\n\u001b[1;32m-> 1287\u001b[1;33m         \u001b[0mkeys\u001b[0m\u001b[1;33m,\u001b[0m \u001b[0mvalues\u001b[0m\u001b[1;33m,\u001b[0m \u001b[0mmutated\u001b[0m \u001b[1;33m=\u001b[0m \u001b[0mself\u001b[0m\u001b[1;33m.\u001b[0m\u001b[0mgrouper\u001b[0m\u001b[1;33m.\u001b[0m\u001b[0mapply\u001b[0m\u001b[1;33m(\u001b[0m\u001b[0mf\u001b[0m\u001b[1;33m,\u001b[0m \u001b[0mdata\u001b[0m\u001b[1;33m,\u001b[0m \u001b[0mself\u001b[0m\u001b[1;33m.\u001b[0m\u001b[0maxis\u001b[0m\u001b[1;33m)\u001b[0m\u001b[1;33m\u001b[0m\u001b[1;33m\u001b[0m\u001b[0m\n\u001b[0m\u001b[0;32m   1288\u001b[0m \u001b[1;33m\u001b[0m\u001b[0m\n\u001b[0;32m   1289\u001b[0m         return self._wrap_applied_output(\n",
      "\u001b[1;32mc:\\users\\dforgeek\\appdata\\local\\programs\\python\\python39\\lib\\site-packages\\pandas\\core\\groupby\\ops.py\u001b[0m in \u001b[0;36mapply\u001b[1;34m(self, f, data, axis)\u001b[0m\n\u001b[0;32m    818\u001b[0m             \u001b[1;31m# group might be modified\u001b[0m\u001b[1;33m\u001b[0m\u001b[1;33m\u001b[0m\u001b[1;33m\u001b[0m\u001b[0m\n\u001b[0;32m    819\u001b[0m             \u001b[0mgroup_axes\u001b[0m \u001b[1;33m=\u001b[0m \u001b[0mgroup\u001b[0m\u001b[1;33m.\u001b[0m\u001b[0maxes\u001b[0m\u001b[1;33m\u001b[0m\u001b[1;33m\u001b[0m\u001b[0m\n\u001b[1;32m--> 820\u001b[1;33m             \u001b[0mres\u001b[0m \u001b[1;33m=\u001b[0m \u001b[0mf\u001b[0m\u001b[1;33m(\u001b[0m\u001b[0mgroup\u001b[0m\u001b[1;33m)\u001b[0m\u001b[1;33m\u001b[0m\u001b[1;33m\u001b[0m\u001b[0m\n\u001b[0m\u001b[0;32m    821\u001b[0m             \u001b[1;32mif\u001b[0m \u001b[1;32mnot\u001b[0m \u001b[0m_is_indexed_like\u001b[0m\u001b[1;33m(\u001b[0m\u001b[0mres\u001b[0m\u001b[1;33m,\u001b[0m \u001b[0mgroup_axes\u001b[0m\u001b[1;33m,\u001b[0m \u001b[0maxis\u001b[0m\u001b[1;33m)\u001b[0m\u001b[1;33m:\u001b[0m\u001b[1;33m\u001b[0m\u001b[1;33m\u001b[0m\u001b[0m\n\u001b[0;32m    822\u001b[0m                 \u001b[0mmutated\u001b[0m \u001b[1;33m=\u001b[0m \u001b[1;32mTrue\u001b[0m\u001b[1;33m\u001b[0m\u001b[1;33m\u001b[0m\u001b[0m\n",
      "\u001b[1;32mc:\\users\\dforgeek\\appdata\\local\\programs\\python\\python39\\lib\\site-packages\\seaborn\\relational.py\u001b[0m in \u001b[0;36mbootstrapped_cis\u001b[1;34m(vals)\u001b[0m\n\u001b[0;32m    393\u001b[0m                 \u001b[1;32mreturn\u001b[0m \u001b[0mnull_ci\u001b[0m\u001b[1;33m\u001b[0m\u001b[1;33m\u001b[0m\u001b[0m\n\u001b[0;32m    394\u001b[0m \u001b[1;33m\u001b[0m\u001b[0m\n\u001b[1;32m--> 395\u001b[1;33m             \u001b[0mboots\u001b[0m \u001b[1;33m=\u001b[0m \u001b[0mbootstrap\u001b[0m\u001b[1;33m(\u001b[0m\u001b[0mvals\u001b[0m\u001b[1;33m,\u001b[0m \u001b[0mfunc\u001b[0m\u001b[1;33m=\u001b[0m\u001b[0mfunc\u001b[0m\u001b[1;33m,\u001b[0m \u001b[0mn_boot\u001b[0m\u001b[1;33m=\u001b[0m\u001b[0mn_boot\u001b[0m\u001b[1;33m,\u001b[0m \u001b[0mseed\u001b[0m\u001b[1;33m=\u001b[0m\u001b[0mseed\u001b[0m\u001b[1;33m)\u001b[0m\u001b[1;33m\u001b[0m\u001b[1;33m\u001b[0m\u001b[0m\n\u001b[0m\u001b[0;32m    396\u001b[0m             \u001b[0mcis\u001b[0m \u001b[1;33m=\u001b[0m \u001b[0mci_func\u001b[0m\u001b[1;33m(\u001b[0m\u001b[0mboots\u001b[0m\u001b[1;33m,\u001b[0m \u001b[0mci\u001b[0m\u001b[1;33m)\u001b[0m\u001b[1;33m\u001b[0m\u001b[1;33m\u001b[0m\u001b[0m\n\u001b[0;32m    397\u001b[0m             \u001b[1;32mreturn\u001b[0m \u001b[0mpd\u001b[0m\u001b[1;33m.\u001b[0m\u001b[0mSeries\u001b[0m\u001b[1;33m(\u001b[0m\u001b[0mcis\u001b[0m\u001b[1;33m,\u001b[0m \u001b[1;33m[\u001b[0m\u001b[1;34m\"low\"\u001b[0m\u001b[1;33m,\u001b[0m \u001b[1;34m\"high\"\u001b[0m\u001b[1;33m]\u001b[0m\u001b[1;33m)\u001b[0m\u001b[1;33m\u001b[0m\u001b[1;33m\u001b[0m\u001b[0m\n",
      "\u001b[1;32mc:\\users\\dforgeek\\appdata\\local\\programs\\python\\python39\\lib\\site-packages\\seaborn\\algorithms.py\u001b[0m in \u001b[0;36mbootstrap\u001b[1;34m(*args, **kwargs)\u001b[0m\n\u001b[0;32m     81\u001b[0m     \u001b[0mboot_dist\u001b[0m \u001b[1;33m=\u001b[0m \u001b[1;33m[\u001b[0m\u001b[1;33m]\u001b[0m\u001b[1;33m\u001b[0m\u001b[1;33m\u001b[0m\u001b[0m\n\u001b[0;32m     82\u001b[0m     \u001b[1;32mfor\u001b[0m \u001b[0mi\u001b[0m \u001b[1;32min\u001b[0m \u001b[0mrange\u001b[0m\u001b[1;33m(\u001b[0m\u001b[0mint\u001b[0m\u001b[1;33m(\u001b[0m\u001b[0mn_boot\u001b[0m\u001b[1;33m)\u001b[0m\u001b[1;33m)\u001b[0m\u001b[1;33m:\u001b[0m\u001b[1;33m\u001b[0m\u001b[1;33m\u001b[0m\u001b[0m\n\u001b[1;32m---> 83\u001b[1;33m         \u001b[0mresampler\u001b[0m \u001b[1;33m=\u001b[0m \u001b[0mintegers\u001b[0m\u001b[1;33m(\u001b[0m\u001b[1;36m0\u001b[0m\u001b[1;33m,\u001b[0m \u001b[0mn\u001b[0m\u001b[1;33m,\u001b[0m \u001b[0mn\u001b[0m\u001b[1;33m,\u001b[0m \u001b[0mdtype\u001b[0m\u001b[1;33m=\u001b[0m\u001b[0mnp\u001b[0m\u001b[1;33m.\u001b[0m\u001b[0mintp\u001b[0m\u001b[1;33m)\u001b[0m  \u001b[1;31m# intp is indexing dtype\u001b[0m\u001b[1;33m\u001b[0m\u001b[1;33m\u001b[0m\u001b[0m\n\u001b[0m\u001b[0;32m     84\u001b[0m         \u001b[0msample\u001b[0m \u001b[1;33m=\u001b[0m \u001b[1;33m[\u001b[0m\u001b[0ma\u001b[0m\u001b[1;33m.\u001b[0m\u001b[0mtake\u001b[0m\u001b[1;33m(\u001b[0m\u001b[0mresampler\u001b[0m\u001b[1;33m,\u001b[0m \u001b[0maxis\u001b[0m\u001b[1;33m=\u001b[0m\u001b[1;36m0\u001b[0m\u001b[1;33m)\u001b[0m \u001b[1;32mfor\u001b[0m \u001b[0ma\u001b[0m \u001b[1;32min\u001b[0m \u001b[0margs\u001b[0m\u001b[1;33m]\u001b[0m\u001b[1;33m\u001b[0m\u001b[1;33m\u001b[0m\u001b[0m\n\u001b[0;32m     85\u001b[0m         \u001b[0mboot_dist\u001b[0m\u001b[1;33m.\u001b[0m\u001b[0mappend\u001b[0m\u001b[1;33m(\u001b[0m\u001b[0mf\u001b[0m\u001b[1;33m(\u001b[0m\u001b[1;33m*\u001b[0m\u001b[0msample\u001b[0m\u001b[1;33m,\u001b[0m \u001b[1;33m**\u001b[0m\u001b[0mfunc_kwargs\u001b[0m\u001b[1;33m)\u001b[0m\u001b[1;33m)\u001b[0m\u001b[1;33m\u001b[0m\u001b[1;33m\u001b[0m\u001b[0m\n",
      "\u001b[1;31mKeyboardInterrupt\u001b[0m: "
     ]
    },
    {
     "data": {
      "image/png": "[encoded data removed]",
      "text/plain": [
       "<Figure size 720x288 with 2 Axes>"
      ]
     },
     "metadata": {},
     "output_type": "display_data"
    }
   ],
   "source": [
    "features = [\"popularity\", \"acousticness\"]\n",
    "df[features].hist(figsize=(10, 4), bins=30);\n",
    "sns.lineplot(x=\"acousticness\", y=\"popularity\", data=df[features])"
   ]
  },
  {
   "cell_type": "code",
   "execution_count": null,
   "id": "81ace372",
   "metadata": {
    "pycharm": {
     "name": "#%%\n"
    }
   },
   "outputs": [],
   "source": [
    "sns.jointplot(data=df[[\"popularity\", \"acousticness\"]], x=\"acousticness\", y=\"popularity\", height=20,kind=\"hex\", gridsize=200)"
   ]
  },
  {
   "cell_type": "markdown",
   "id": "c532650f",
   "metadata": {},
   "source": [
    "<font size=\"5\">As we can see, acoustiness badly affects popularity of track. I have used hex kind of jointplot because usual points in usual kind of jointplot are too densed."
   ]
  },
  {
   "cell_type": "code",
   "execution_count": null,
   "id": "de436984",
   "metadata": {
    "pycharm": {
     "name": "#%%\n"
    },
    "scrolled": false
   },
   "outputs": [],
   "source": [
    "df_danceability=np.round(df[[\"danceability\", \"popularity\"]], 1)\n",
    "sns.barplot(x=\"danceability\", y=\"popularity\", data=df_danceability)"
   ]
  },
  {
   "cell_type": "markdown",
   "id": "a1624db1",
   "metadata": {
    "pycharm": {
     "name": "#%% md\n"
    }
   },
   "source": [
    "<font size=\"5\">Based on this graph, you can see that danceability affects the popularity of songs. The higher the danceability, the more people on average will listen to this song."
   ]
  },
  {
   "cell_type": "code",
   "execution_count": null,
   "id": "ab9a1a66",
   "metadata": {},
   "outputs": [],
   "source": [
    "features = [\"popularity\", \"loudness\"]\n",
    "sns.jointplot(data=df[features], x=\"loudness\", y=\"popularity\", height=20, color='y', dropna=True)"
   ]
  },
  {
   "cell_type": "markdown",
   "id": "b3b977c5",
   "metadata": {},
   "source": [
    "sds"
   ]
  },
  {
   "cell_type": "code",
   "execution_count": null,
   "id": "f229d89f",
   "metadata": {},
   "outputs": [],
   "source": [
    "features = [\"popularity\", \"energy\"]\n",
    "sns.jointplot(data=df[features], x=\"energy\", y=\"popularity\", height=20, color='g')"
   ]
  },
  {
   "cell_type": "markdown",
   "id": "8e64c06e",
   "metadata": {},
   "source": [
    "Здесь имеем примерно равн"
   ]
  },
  {
   "cell_type": "code",
   "execution_count": null,
   "id": "7b48ce41",
   "metadata": {},
   "outputs": [],
   "source": [
    "df[\"energy\"].hist(bins=30, color='g')"
   ]
  },
  {
   "cell_type": "code",
   "execution_count": null,
   "id": "9e99360e",
   "metadata": {},
   "outputs": [],
   "source": [
    "df_energy=np.round(df[[\"energy\", \"popularity\"]], 1)\n",
    "sns.barplot(x=\"energy\", y=\"popularity\", data=df_energy)"
   ]
  },
  {
   "cell_type": "code",
   "execution_count": null,
   "id": "29360dfd",
   "metadata": {},
   "outputs": [],
   "source": [
    "features = [\"popularity\", \"instrumentalness\"]\n",
    "sns.jointplot(data=df[features], x=\"instrumentalness\", y=\"popularity\", height=20, color='r', kind=\"hex\", gridsize=150)"
   ]
  },
  {
   "cell_type": "code",
   "execution_count": null,
   "id": "08f2540b",
   "metadata": {},
   "outputs": [],
   "source": [
    "df[\"instrumentalness\"].hist(bins=30, color='r')"
   ]
  },
  {
   "cell_type": "code",
   "execution_count": null,
   "id": "a4ee9c53",
   "metadata": {},
   "outputs": [],
   "source": [
    "df_instrumentalness=np.round(df[[\"instrumentalness\", \"popularity\"]], 1)\n",
    "sns.barplot(x=\"instrumentalness\", y=\"popularity\", data=df_instrumentalness)"
   ]
  },
  {
   "cell_type": "code",
   "execution_count": null,
   "id": "1c5a5156",
   "metadata": {},
   "outputs": [],
   "source": [
    "sns.barplot(x='mode', y='popularity', data=df)"
   ]
  },
  {
   "cell_type": "code",
   "execution_count": null,
   "id": "7c6dc4cb",
   "metadata": {},
   "outputs": [],
   "source": [
    "sns.set(rc={'figure.figsize':(16,8)})\n",
    "sns.barplot(x='mode', y='popularity', hue='key', data=df)"
   ]
  },
  {
   "cell_type": "code",
   "execution_count": null,
   "id": "991be2cf",
   "metadata": {},
   "outputs": [],
   "source": [
    "sns.set(rc={'figure.figsize':(10,8)})\n",
    "sns.barplot(x=\"time_signature\", y=\"popularity\", data=df)"
   ]
  },
  {
   "cell_type": "code",
   "execution_count": null,
   "id": "d0c81284",
   "metadata": {},
   "outputs": [],
   "source": [
    "df[\"time_signature\"].hist(bins=30)"
   ]
  },
  {
   "cell_type": "markdown",
   "id": "64acac54",
   "metadata": {},
   "source": [
    "<font size=\"5\"> Can't really say anything about popularity depending on time signature because almost all songs have 4/4 time signature"
   ]
  },
  {
   "cell_type": "markdown",
   "id": "6b789194",
   "metadata": {},
   "source": [
    "Let's try some models to find out how effecient theya re in our case.\n"
   ]
  },
  {
   "cell_type": "code",
   "execution_count": null,
   "id": "1b354d23",
   "metadata": {},
   "outputs": [],
   "source": [
    "y=df.popularity\n",
    "#['genre', 'artist_name', 'track_name', 'track_id', 'popularity',\n",
    "#       'acousticness', 'danceability', 'duration_ms', 'energy',\n",
    "#       'instrumentalness', 'key', 'liveness', 'loudness', 'mode',\n",
    "#       'speechiness', 'tempo', 'time_signature', 'valence']\n",
    "\n",
    "features=['acousticness', 'danceability', 'energy','instrumentalness', 'liveness', 'loudness', 'speechiness']\n",
    "\n",
    "X=df[features]\n",
    "#X.drop([\"popularity\"], axis=1)\n",
    "X_train, X_valid, y_train, y_valid = train_test_split(X, y, train_size=0.8, test_size=0.2, random_state=0)\n",
    "\n",
    "# DF without object features\n",
    "#X_train_no_obj = X_train.select_dtypes(exclude=[\"object\"])\n",
    "#X_valid_no_obj = X_valid.select_dtypes(exclude=[\"object\"])\n"
   ]
  },
  {
   "cell_type": "code",
   "execution_count": null,
   "id": "10c01982",
   "metadata": {},
   "outputs": [],
   "source": [
    "def score_model(model, X_t=X_train, X_v=X_valid, y_t=y_train, y_v=y_valid):\n",
    "    model.fit(X_t, y_t)\n",
    "    preds = model.predict(X_v)\n",
    "    return mean_absolute_error(y_v, preds)\n",
    "\n",
    "model_1 = LinearRegression()\n",
    "print(\"Model 1 MAE:\", score_model(model_1))\n",
    "\n",
    "model_2 = KNeighborsRegressor()\n",
    "print(\"Model 2 MAE:\", score_model(model_2))\n",
    "\n",
    "model_3 = KNeighborsClassifier()\n",
    "print(\"Model 3 MAE:\", score_model(model_3))\n",
    "\n",
    "model_4 = DecisionTreeClassifier()\n",
    "print(\"Model 4 MAE:\", score_model(model_4))\n",
    "\n"
   ]
  },
  {
   "cell_type": "code",
   "execution_count": null,
   "id": "c84fcb06",
   "metadata": {},
   "outputs": [],
   "source": []
  }
 ],
 "metadata": {
  "kernelspec": {
   "display_name": "Python 3 (ipykernel)",
   "language": "python",
   "name": "python3"
  },
  "language_info": {
   "codemirror_mode": {
    "name": "ipython",
    "version": 3
   },
   "file_extension": ".py",
   "mimetype": "text/x-python",
   "name": "python",
   "nbconvert_exporter": "python",
   "pygments_lexer": "ipython3",
   "version": "3.9.6"
  }
 },
 "nbformat": 4,
 "nbformat_minor": 5
}
